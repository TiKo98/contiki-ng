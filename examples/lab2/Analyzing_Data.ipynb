{
 "metadata": {
  "language_info": {
   "codemirror_mode": {
    "name": "ipython",
    "version": 3
   },
   "file_extension": ".py",
   "mimetype": "text/x-python",
   "name": "python",
   "nbconvert_exporter": "python",
   "pygments_lexer": "ipython3",
   "version": "3.8.3"
  },
  "orig_nbformat": 2,
  "kernelspec": {
   "name": "python38332bitf9008657f38e4b84baa0ed5af8997cf4",
   "display_name": "Python 3.8.3 32-bit"
  },
  "metadata": {
   "interpreter": {
    "hash": "7a542ca580817fc4dd55327026e074e2fa0cd470fc5dee9350c2d8b13822db8d"
   }
  }
 },
 "nbformat": 4,
 "nbformat_minor": 2,
 "cells": [
  {
   "cell_type": "code",
   "execution_count": 1,
   "metadata": {},
   "outputs": [],
   "source": [
    "import pandas as pd\n",
    "import datetime\n",
    "import matplotlib.pyplot as plt \n",
    "import statistics"
   ]
  },
  {
   "cell_type": "code",
   "execution_count": 2,
   "metadata": {},
   "outputs": [],
   "source": [
    "def insert_time(timestring):\n",
    "    timestring = \"20.05.2021 \" + timestring\n",
    "    timeobject = datetime.datetime.strptime(timestring, '%d.%m.%Y %M:%S.%f')\n",
    "    milisecs = timeobject.timestamp() * 1000\n",
    "    return milisecs"
   ]
  },
  {
   "cell_type": "code",
   "execution_count": 10,
   "metadata": {},
   "outputs": [
    {
     "output_type": "execute_result",
     "data": {
      "text/plain": [
       "           Time Node ID                                             Output\n",
       "0     00:00.316   ID:13        [INFO: App       ] numHopsToCentralNode: 0 \n",
       "1     00:05.338   ID:13  [INFO: App       ] Received sensor value 45 fr...\n",
       "2     00:05.342   ID:13  [INFO: App       ] Thus received 1 values in t...\n",
       "3     00:05.529   ID:13  [INFO: App       ] Received sensor value 45 fr...\n",
       "4     00:05.533   ID:13  [INFO: App       ] Thus received 2 values in t...\n",
       "...         ...     ...                                                ...\n",
       "2210  05:05.704   ID:13  [INFO: App       ] Thus received 14 values in ...\n",
       "2211  05:05.794   ID:13  [INFO: App       ] Received sensor value 8 fro...\n",
       "2212  05:05.798   ID:13  [INFO: App       ] Thus received 15 values in ...\n",
       "2213  05:05.810   ID:13  [INFO: App       ] Received sensor value 79 fr...\n",
       "2214  05:05.814   ID:13  [INFO: App       ] Thus received 16 values in ...\n",
       "\n",
       "[2215 rows x 3 columns]"
      ],
      "text/html": "<div>\n<style scoped>\n    .dataframe tbody tr th:only-of-type {\n        vertical-align: middle;\n    }\n\n    .dataframe tbody tr th {\n        vertical-align: top;\n    }\n\n    .dataframe thead th {\n        text-align: right;\n    }\n</style>\n<table border=\"1\" class=\"dataframe\">\n  <thead>\n    <tr style=\"text-align: right;\">\n      <th></th>\n      <th>Time</th>\n      <th>Node ID</th>\n      <th>Output</th>\n    </tr>\n  </thead>\n  <tbody>\n    <tr>\n      <th>0</th>\n      <td>00:00.316</td>\n      <td>ID:13</td>\n      <td>[INFO: App       ] numHopsToCentralNode: 0</td>\n    </tr>\n    <tr>\n      <th>1</th>\n      <td>00:05.338</td>\n      <td>ID:13</td>\n      <td>[INFO: App       ] Received sensor value 45 fr...</td>\n    </tr>\n    <tr>\n      <th>2</th>\n      <td>00:05.342</td>\n      <td>ID:13</td>\n      <td>[INFO: App       ] Thus received 1 values in t...</td>\n    </tr>\n    <tr>\n      <th>3</th>\n      <td>00:05.529</td>\n      <td>ID:13</td>\n      <td>[INFO: App       ] Received sensor value 45 fr...</td>\n    </tr>\n    <tr>\n      <th>4</th>\n      <td>00:05.533</td>\n      <td>ID:13</td>\n      <td>[INFO: App       ] Thus received 2 values in t...</td>\n    </tr>\n    <tr>\n      <th>...</th>\n      <td>...</td>\n      <td>...</td>\n      <td>...</td>\n    </tr>\n    <tr>\n      <th>2210</th>\n      <td>05:05.704</td>\n      <td>ID:13</td>\n      <td>[INFO: App       ] Thus received 14 values in ...</td>\n    </tr>\n    <tr>\n      <th>2211</th>\n      <td>05:05.794</td>\n      <td>ID:13</td>\n      <td>[INFO: App       ] Received sensor value 8 fro...</td>\n    </tr>\n    <tr>\n      <th>2212</th>\n      <td>05:05.798</td>\n      <td>ID:13</td>\n      <td>[INFO: App       ] Thus received 15 values in ...</td>\n    </tr>\n    <tr>\n      <th>2213</th>\n      <td>05:05.810</td>\n      <td>ID:13</td>\n      <td>[INFO: App       ] Received sensor value 79 fr...</td>\n    </tr>\n    <tr>\n      <th>2214</th>\n      <td>05:05.814</td>\n      <td>ID:13</td>\n      <td>[INFO: App       ] Thus received 16 values in ...</td>\n    </tr>\n  </tbody>\n</table>\n<p>2215 rows × 3 columns</p>\n</div>"
     },
     "metadata": {},
     "execution_count": 10
    }
   ],
   "source": [
    "colnames = ['Time', 'Node ID', 'Output']\n",
    "part3_9_data = pd.read_csv(r\"D:\\Programmierung\\contiki-ng\\examples\\lab2\\lab2 part4 25 nodes log only data.txt\", engine='python', sep=\"\\t\", header=None, names=colnames)\n",
    "only_central = part3_9_data[part3_9_data[\"Node ID\"] == \"ID:13\"]\n",
    "only_central = only_central.reset_index(drop=True)\n",
    "only_central"
   ]
  },
  {
   "cell_type": "code",
   "execution_count": null,
   "metadata": {},
   "outputs": [],
   "source": []
  }
 ]
}