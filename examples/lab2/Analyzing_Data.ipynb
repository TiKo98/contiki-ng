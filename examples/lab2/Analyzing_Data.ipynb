{
 "metadata": {
  "language_info": {
   "codemirror_mode": {
    "name": "ipython",
    "version": 3
   },
   "file_extension": ".py",
   "mimetype": "text/x-python",
   "name": "python",
   "nbconvert_exporter": "python",
   "pygments_lexer": "ipython3",
   "version": "3.8.3"
  },
  "orig_nbformat": 2,
  "kernelspec": {
   "name": "python38332bitf9008657f38e4b84baa0ed5af8997cf4",
   "display_name": "Python 3.8.3 32-bit"
  },
  "metadata": {
   "interpreter": {
    "hash": "7a542ca580817fc4dd55327026e074e2fa0cd470fc5dee9350c2d8b13822db8d"
   }
  }
 },
 "nbformat": 4,
 "nbformat_minor": 2,
 "cells": [
  {
   "cell_type": "code",
   "execution_count": 1,
   "metadata": {},
   "outputs": [],
   "source": [
    "import pandas as pd\n",
    "import datetime\n",
    "import matplotlib.pyplot as plt \n",
    "import statistics"
   ]
  },
  {
   "cell_type": "code",
   "execution_count": 2,
   "metadata": {},
   "outputs": [],
   "source": [
    "def insert_time(timestring):\n",
    "    timestring = \"20.05.2021 \" + timestring\n",
    "    timeobject = datetime.datetime.strptime(timestring, '%d.%m.%Y %M:%S.%f')\n",
    "    milisecs = timeobject.timestamp() * 1000\n",
    "    return milisecs"
   ]
  },
  {
   "cell_type": "code",
   "execution_count": 3,
   "metadata": {},
   "outputs": [
    {
     "output_type": "execute_result",
     "data": {
      "text/plain": [
       "          Time Node ID                                             Output\n",
       "0    00:01.694    ID:1   [INFO: App       ] Send value 0 to uplink node 0\n",
       "1    00:02.694    ID:1   [INFO: App       ] Send value 1 to uplink node 0\n",
       "2    00:03.694    ID:1   [INFO: App       ] Send value 2 to uplink node 0\n",
       "3    00:04.694    ID:1   [INFO: App       ] Send value 3 to uplink node 2\n",
       "4    00:04.787    ID:2  [INFO: App       ] Logged value 3 from mobile ...\n",
       "..         ...     ...                                                ...\n",
       "584  04:59.737    ID:6  [INFO: App       ] Logged value 298 from mobil...\n",
       "585  05:00.694    ID:1  [INFO: App       ] Send value 299 to uplink no...\n",
       "586  05:00.807    ID:6  [INFO: App       ] Logged value 299 from mobil...\n",
       "587  05:01.694    ID:1  [INFO: App       ] Send value 300 to uplink no...\n",
       "588  05:01.901    ID:6  [INFO: App       ] Logged value 300 from mobil...\n",
       "\n",
       "[589 rows x 3 columns]"
      ],
      "text/html": "<div>\n<style scoped>\n    .dataframe tbody tr th:only-of-type {\n        vertical-align: middle;\n    }\n\n    .dataframe tbody tr th {\n        vertical-align: top;\n    }\n\n    .dataframe thead th {\n        text-align: right;\n    }\n</style>\n<table border=\"1\" class=\"dataframe\">\n  <thead>\n    <tr style=\"text-align: right;\">\n      <th></th>\n      <th>Time</th>\n      <th>Node ID</th>\n      <th>Output</th>\n    </tr>\n  </thead>\n  <tbody>\n    <tr>\n      <th>0</th>\n      <td>00:01.694</td>\n      <td>ID:1</td>\n      <td>[INFO: App       ] Send value 0 to uplink node 0</td>\n    </tr>\n    <tr>\n      <th>1</th>\n      <td>00:02.694</td>\n      <td>ID:1</td>\n      <td>[INFO: App       ] Send value 1 to uplink node 0</td>\n    </tr>\n    <tr>\n      <th>2</th>\n      <td>00:03.694</td>\n      <td>ID:1</td>\n      <td>[INFO: App       ] Send value 2 to uplink node 0</td>\n    </tr>\n    <tr>\n      <th>3</th>\n      <td>00:04.694</td>\n      <td>ID:1</td>\n      <td>[INFO: App       ] Send value 3 to uplink node 2</td>\n    </tr>\n    <tr>\n      <th>4</th>\n      <td>00:04.787</td>\n      <td>ID:2</td>\n      <td>[INFO: App       ] Logged value 3 from mobile ...</td>\n    </tr>\n    <tr>\n      <th>...</th>\n      <td>...</td>\n      <td>...</td>\n      <td>...</td>\n    </tr>\n    <tr>\n      <th>584</th>\n      <td>04:59.737</td>\n      <td>ID:6</td>\n      <td>[INFO: App       ] Logged value 298 from mobil...</td>\n    </tr>\n    <tr>\n      <th>585</th>\n      <td>05:00.694</td>\n      <td>ID:1</td>\n      <td>[INFO: App       ] Send value 299 to uplink no...</td>\n    </tr>\n    <tr>\n      <th>586</th>\n      <td>05:00.807</td>\n      <td>ID:6</td>\n      <td>[INFO: App       ] Logged value 299 from mobil...</td>\n    </tr>\n    <tr>\n      <th>587</th>\n      <td>05:01.694</td>\n      <td>ID:1</td>\n      <td>[INFO: App       ] Send value 300 to uplink no...</td>\n    </tr>\n    <tr>\n      <th>588</th>\n      <td>05:01.901</td>\n      <td>ID:6</td>\n      <td>[INFO: App       ] Logged value 300 from mobil...</td>\n    </tr>\n  </tbody>\n</table>\n<p>589 rows × 3 columns</p>\n</div>"
     },
     "metadata": {},
     "execution_count": 3
    }
   ],
   "source": [
    "colnames = ['Time', 'Node ID', 'Output']\n",
    "data = pd.read_csv(r\"D:\\Programmierung\\contiki-ng\\examples\\lab3\\lab3 part2 speed 15 log.txt\", engine='python', sep=\"\\t\", header=None, names=colnames, skiprows=60)\n",
    "# only_central = part3_9_data[part3_9_data[\"Node ID\"] == \"ID:13\"]\n",
    "# only_central = only_central.reset_index(drop=True)\n",
    "# only_central\n",
    "data"
   ]
  },
  {
   "cell_type": "code",
   "execution_count": null,
   "metadata": {},
   "outputs": [],
   "source": []
  }
 ]
}